{
 "cells": [
  {
   "cell_type": "code",
   "execution_count": null,
   "id": "da0d211e",
   "metadata": {},
   "outputs": [],
   "source": [
    "from pathlib import Path\n",
    "\n",
    "# Load environment variables from root directory\n",
    "notebook_path = Path().absolute()\n",
    "requirements_path = notebook_path.parent / 'requirements.txt'\n",
    "print(f\"Notebook path: {notebook_path}\")\n",
    "print(f\"Requirements path: {requirements_path}\")"
   ]
  },
  {
   "cell_type": "code",
   "execution_count": null,
   "id": "079ed0c6",
   "metadata": {},
   "outputs": [],
   "source": [
    "%pip install -r {requirements_path}"
   ]
  }
 ],
 "metadata": {
  "kernelspec": {
   "display_name": "Python 3",
   "language": "python",
   "name": "python3"
  },
  "language_info": {
   "codemirror_mode": {
    "name": "ipython",
    "version": 3
   },
   "file_extension": ".py",
   "mimetype": "text/x-python",
   "name": "python",
   "nbconvert_exporter": "python",
   "pygments_lexer": "ipython3",
   "version": "3.13.7"
  }
 },
 "nbformat": 4,
 "nbformat_minor": 5
}
