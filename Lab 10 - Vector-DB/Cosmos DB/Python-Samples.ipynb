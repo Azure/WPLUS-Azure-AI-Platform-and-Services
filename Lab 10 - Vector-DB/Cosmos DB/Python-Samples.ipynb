{
 "cells": [
  {
   "cell_type": "markdown",
   "id": "52008783",
   "metadata": {},
   "source": [
    "# Quick sample to get started with basic string search, full-text search, vector search and hybrid search"
   ]
  },
  {
   "cell_type": "code",
   "execution_count": 14,
   "id": "add38ade",
   "metadata": {},
   "outputs": [],
   "source": [
    "from dotenv import dotenv_values\n",
    "import json\n",
    "from azure.cosmos import CosmosClient, PartitionKey, ThroughputProperties, exceptions\n",
    "from azure.cosmos.aio import CosmosClient as AsyncClient\n",
    "from openai import AzureOpenAI\n",
    "import asyncio\n",
    "\n",
    "import nest_asyncio\n",
    "nest_asyncio.apply()"
   ]
  },
  {
   "cell_type": "code",
   "execution_count": 12,
   "id": "1c7b39a2",
   "metadata": {},
   "outputs": [],
   "source": [
    "# Replace credentials and endpoints in .env with your own. You will find these in the Azure portal.\n",
    "config = dotenv_values(\".env\")\n",
    "cosmos_endpoint =  config['cosmos_endpoint']\n",
    "cosmos_key = config['cosmos_key']\n",
    "cosmos_database = config['cosmos_database']\n",
    "cosmos_container = config['cosmos_container']\n",
    "openai_endpoint = config['openai_endpoint']\n",
    "openai_key = config['openai_key']\n",
    "openai_embeddings_deployment = config['openai_embeddings_deployment']\n",
    "openai_embeddings_dimensions = config['openai_embeddings_dimensions']\n",
    "openai_api_version = config['openai_api_version']"
   ]
  },
  {
   "cell_type": "code",
   "execution_count": null,
   "id": "66f5f495",
   "metadata": {},
   "outputs": [],
   "source": [
    "# Establish connection to database (Cosmos DB) and OpenAI\n",
    "cosmos_client = CosmosClient(url=cosmos_endpoint, credential=cosmos_key)\n",
    "openai_client = AzureOpenAI(azure_endpoint=openai_endpoint, api_key=openai_key, api_version=openai_api_version)"
   ]
  },
  {
   "cell_type": "markdown",
   "id": "5c2eff1f",
   "metadata": {},
   "source": [
    "## Setup Azure Cosmos DB with container and indexing policies for search"
   ]
  },
  {
   "cell_type": "code",
   "execution_count": null,
   "id": "1b77fe5c",
   "metadata": {},
   "outputs": [],
   "source": [
    "vector_embedding_policy = { \n",
    "    \"vectorEmbeddings\": [ \n",
    "        { \n",
    "            \"path\": \"/embedding\", \n",
    "            \"dataType\": \"float32\", \n",
    "            \"distanceFunction\": \"cosine\", \n",
    "            \"dimensions\": 3072 \n",
    "        }, \n",
    "    ]    \n",
    "}\n",
    "\n",
    "full_text_policy = {\n",
    "   \"defaultLanguage\": \"en-US\",\n",
    "   \"fullTextPaths\": [\n",
    "       {\n",
    "           \"path\": \"/description\",\n",
    "           \"language\": \"en-US\"\n",
    "       },\n",
    "       {\n",
    "           \"path\": \"/summary_review\",\n",
    "           \"language\": \"en-US\"\n",
    "       }\n",
    "   ]\n",
    "}\n",
    "\n",
    "indexing_policy = { \n",
    "    \"includedPaths\": [ \n",
    "        { \n",
    "            \"path\": \"/*\" \n",
    "        } \n",
    "    ], \n",
    "    \"excludedPaths\": [ \n",
    "        { \n",
    "            \"path\": \"/\\\"_etag\\\"/?\",\n",
    "            \"path\": \"/embedding/*\",                \n",
    "        }\n",
    "    ],\n",
    "    \"vectorIndexes\": [ \n",
    "        {\n",
    "            \"path\": \"/embedding\", \n",
    "            \"type\": \"diskANN\"\n",
    "        }\n",
    "    ],\n",
    "    \"fullTextIndexes\": [\n",
    "        {\n",
    "            \"path\": \"/description\",\n",
    "        },\n",
    "        {\n",
    "            \"path\": \"/summary_review\",\n",
    "        }\n",
    "    ]\n",
    "}\n",
    "\n",
    "# Create Cosmos DB Database\n",
    "db = cosmos_client.create_database_if_not_exists(cosmos_database)\n",
    "\n",
    "# Create Cosmos DB Container\n",
    "container = db.create_container_if_not_exists(\n",
    "    id='Products',\n",
    "    partition_key=PartitionKey(path='/id'),\n",
    "    indexing_policy=indexing_policy,\n",
    "    vector_embedding_policy=vector_embedding_policy,\n",
    "    full_text_policy=full_text_policy,\n",
    "    offer_throughput=ThroughputProperties(auto_scale_max_throughput=10000, auto_scale_increment_percent=0)\n",
    ")"
   ]
  },
  {
   "cell_type": "markdown",
   "id": "a9fe8776",
   "metadata": {},
   "source": [
    "## Insert data for search examples"
   ]
  },
  {
   "cell_type": "code",
   "execution_count": null,
   "id": "c369c2d9",
   "metadata": {},
   "outputs": [],
   "source": [
    "# Load sample data\n",
    "with open('data/e-retail-data-3072D.json', 'r') as file:\n",
    "    data = json.load(file) "
   ]
  },
  {
   "cell_type": "code",
   "execution_count": null,
   "id": "0950cef8",
   "metadata": {},
   "outputs": [],
   "source": [
    "# Insert Data into Cosmos DB\n",
    "# Note: Our data already contains embeddings, so we don't need to generate them again. In real scenarios, \n",
    "# you would first pass your documents through an embedding model and then insert them to Cosmos DB.\n",
    "for i in data:\n",
    "    container.create_item(body=i)"
   ]
  },
  {
   "cell_type": "markdown",
   "id": "412de18d",
   "metadata": {},
   "source": [
    "## Define search terms and generate embeddings"
   ]
  },
  {
   "cell_type": "code",
   "execution_count": null,
   "id": "872a0e84",
   "metadata": {},
   "outputs": [],
   "source": [
    "# Define helper function to call into OpenAI and generate embeddings\n",
    "def generate_embeddings(text):\n",
    "    response = openai_client.embeddings.create(\n",
    "        input=text,\n",
    "        model=openai_embeddings_deployment)     \n",
    "    embeddings = response.model_dump()\n",
    "    return embeddings['data'][0]['embedding']"
   ]
  },
  {
   "cell_type": "code",
   "execution_count": 19,
   "id": "c196ef93",
   "metadata": {},
   "outputs": [],
   "source": [
    "search_terms = \"luxury bags\"\n",
    "emb = generate_embeddings(search_terms)\n",
    "full_text = search_terms.split()"
   ]
  },
  {
   "cell_type": "markdown",
   "id": "25484b33",
   "metadata": {},
   "source": [
    "## Classic string search with `CONTAINS` (equivalent to LIKE in SQL)"
   ]
  },
  {
   "cell_type": "code",
   "execution_count": null,
   "id": "8000ccf8",
   "metadata": {},
   "outputs": [],
   "source": [
    "results = container.query_items(\n",
    "        query= f'''\n",
    "        SELECT TOP 5 c.product_id, c.product_name, c.description\n",
    "        FROM c\n",
    "        WHERE CONTAINS(c.description, '{full_text[0]}') OR CONTAINS(c.description, '{full_text[1]}')\n",
    "        ORDER BY c.product_name\n",
    "        ''',\n",
    "          enable_cross_partition_query=True, populate_query_metrics=True)\n",
    "\n",
    "for r in list(results):\n",
    "    print(json.dumps(r,indent=4))"
   ]
  },
  {
   "cell_type": "markdown",
   "id": "5bb303cc",
   "metadata": {},
   "source": [
    "### With little more data, this will become very expensive and very slow. CONTAINS function performs a full scan (refer: https://learn.microsoft.com/en-us/azure/cosmos-db/nosql/query/contains).\n",
    "### We also do not have any meaningful way to rank the results. We can rank using product id or product name, but that is not very useful."
   ]
  },
  {
   "cell_type": "markdown",
   "id": "6110094b",
   "metadata": {},
   "source": [
    "## A Simple Text search with `FullTextContainsAny`"
   ]
  },
  {
   "cell_type": "code",
   "execution_count": null,
   "id": "973455de",
   "metadata": {},
   "outputs": [],
   "source": [
    "results = container.query_items(\n",
    "        query= f'''\n",
    "        SELECT TOP 5 c.product_id, c.product_name, c.description\n",
    "        FROM c\n",
    "        WHERE FullTextContainsAny(c.description,'{\"', '\".join(full_text)}')\n",
    "        ''',\n",
    "          enable_cross_partition_query=True, populate_query_metrics=True)\n",
    "\n",
    "for r in list(results):\n",
    "    print(json.dumps(r,indent=4))"
   ]
  },
  {
   "cell_type": "markdown",
   "id": "0d947f59",
   "metadata": {},
   "source": [
    "### With Full text index we can scale to larger volumes of data while keeping cost in check. Refer: https://learn.microsoft.com/en-us/azure/cosmos-db/nosql/query/fulltextcontainsany, https://learn.microsoft.com/en-us/azure/cosmos-db/index-policy#full-text-indexes\n",
    "### However, results are still in random order, which is not useful. We need to rank the results based on relevance."
   ]
  },
  {
   "cell_type": "markdown",
   "id": "fca829a6",
   "metadata": {},
   "source": [
    "## Search and order by BM25 with `FullTextScore`"
   ]
  },
  {
   "cell_type": "code",
   "execution_count": null,
   "id": "b37b3cbf",
   "metadata": {},
   "outputs": [],
   "source": [
    "results = container.query_items(\n",
    "        query= f'''\n",
    "        SELECT TOP 5 c.product_id, c.product_name, c.description\n",
    "        FROM c\n",
    "        ORDER BY RANK FullTextScore(c.description,'{\"', '\".join(full_text)}')\n",
    "        ''',\n",
    "          enable_cross_partition_query=True, populate_query_metrics=True)\n",
    "\n",
    "for r in list(results):\n",
    "    print(json.dumps(r,indent=4))"
   ]
  },
  {
   "cell_type": "markdown",
   "id": "9de3f825",
   "metadata": {},
   "source": [
    "### With Full text index we can scale to larger volumes of data while keeping cost in check.\n",
    "### Thanks to FullTextScore function, which leverages industry standard BM25 algorithm, results are now ranked based on relevance. Refer: https://learn.microsoft.com/en-us/azure/cosmos-db/nosql/query/fulltextscore\n",
    "\n",
    "### For reference - \n",
    "### BM25 helps search engines and systems prioritize and rank information by balancing the frequency of keywords with document length, so shorter, more focused documents are fairly compared against longer ones. \n",
    "### BM25 widely used to improve the accuracy and usefulness of search results across many platforms, ensuring users find what they’re looking for efficiently without getting overwhelmed by irrelevant or excessively long content. \n",
    "\n",
    "### So, the results have improvemed but we are still searching on exact terms. We would like our search to be more flexible, allowing for synonyms, related terms, and similar concepts.\n",
    "### Instead of only searching for \"luxry bags\" we want to find products that are similar or related such as \"designer purses\". That's what vector search is for!"
   ]
  },
  {
   "cell_type": "markdown",
   "id": "52b2f063",
   "metadata": {},
   "source": [
    "## Search and order by Vector similary with `VectorDistance`"
   ]
  },
  {
   "cell_type": "code",
   "execution_count": null,
   "id": "580e68e7",
   "metadata": {},
   "outputs": [],
   "source": [
    "results = container.query_items(\n",
    "query = f'''\n",
    "        SELECT TOP 5 c.id, c.product_name, c.description, VectorDistance(c.embedding, {emb}) as Score\n",
    "        FROM c\n",
    "        ORDER BY VectorDistance(c.embedding, {emb}, false, {{\"searchListSizeMultiplier\": 5}})\n",
    "    ''',\n",
    "          enable_cross_partition_query=True, populate_query_metrics=True)\n",
    "\n",
    "for r in list(results):\n",
    "    print(json.dumps(r,indent=4))"
   ]
  },
  {
   "cell_type": "markdown",
   "id": "b919808e",
   "metadata": {},
   "source": [
    "### Now we are matching all sorts of similar content but \"Rose Gold Quartz Watch\" or \"Sapphire Blue Silk Scarf\" are not that close to \"luxury handbags\". \n",
    "### They are luxury products and perhaps user browsing a product catalog on our website could also be interested in them, but we should first surface products in this order: luxury handbags -> other luxury items -> everything else.\n",
    "### The Reciprocal Rank Fusion (RRF) function will allow us to do just that. We will combine the full text search we tried before with the vector search and weight the results. Refer: https://learn.microsoft.com/en-us/azure/cosmos-db/nosql/query/rrf"
   ]
  },
  {
   "cell_type": "code",
   "execution_count": null,
   "id": "fb4ef4b0",
   "metadata": {},
   "outputs": [],
   "source": [
    "results = container.query_items(\n",
    "        query= f'''\n",
    "        SELECT TOP 5 c.product_id, c.product_name, c.description, VectorDistance(c.embedding, {emb}) as SimilarityScore\n",
    "        FROM c\n",
    "        ORDER BY RANK RRF(FullTextScore(c.description,'{\"', '\".join(full_text)}'),VectorDistance(c.embedding, {emb}))\n",
    "        ''',\n",
    "          enable_cross_partition_query=True, populate_query_metrics=True)\n",
    "\n",
    "for r in list(results):\n",
    "    print(json.dumps(r,indent=4))"
   ]
  },
  {
   "cell_type": "markdown",
   "id": "12ef03e6",
   "metadata": {},
   "source": [
    "### Perfect! Now the results seem highly relevant to the search term \"luxury bags\".\n",
    "### Feel free to try different search terms or try adjusting the weighting for full text and vector search like this: \n",
    "### RRF(FullTextScore(c.description,'{\"', '\".join(full_text)}'),VectorDistance(c.embedding, {emb}), [2, 1])  //<- this will put twice as much weight on exact full text matches than semantic meanings (2:1 wieghting)."
   ]
  }
 ],
 "metadata": {
  "kernelspec": {
   "display_name": "Python 3",
   "language": "python",
   "name": "python3"
  },
  "language_info": {
   "codemirror_mode": {
    "name": "ipython",
    "version": 3
   },
   "file_extension": ".py",
   "mimetype": "text/x-python",
   "name": "python",
   "nbconvert_exporter": "python",
   "pygments_lexer": "ipython3",
   "version": "3.12.10"
  }
 },
 "nbformat": 4,
 "nbformat_minor": 5
}
